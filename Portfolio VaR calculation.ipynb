{
 "cells": [
  {
   "cell_type": "code",
   "execution_count": 2,
   "id": "c61a91f4",
   "metadata": {},
   "outputs": [],
   "source": [
    "import numpy as np \n",
    "import pandas as pd\n",
    "import matplotlib. pyplot as plt \n",
    "from scipy.stats import norm\n",
    "import scipy\n",
    "import yfinance as yf \n",
    "from tabulate import tabulate "
   ]
  },
  {
   "cell_type": "code",
   "execution_count": 50,
   "id": "c966e72c",
   "metadata": {},
   "outputs": [],
   "source": [
    "##Making a list of stock\n",
    "stocks = [\"AAPL\",\"TSLA\",\"SHEL\",\"MSFT\",\"GOOGL\",\"QYLD\",\"BABA\"]\n",
    "weights = [0.17,0.11,0.3,0.26,0.8,0.3,0.32]"
   ]
  },
  {
   "cell_type": "code",
   "execution_count": 9,
   "id": "5d4e74fd",
   "metadata": {},
   "outputs": [],
   "source": [
    "def get_portfolio_data(stocks, start:str, end:str) -> pd.DataFrame:\n",
    "    \"\"\"Gets portfolio asset daily returns for a give period\"\"\"\n",
    "    stock_data = yf.download(stocks, start, end, progress=False)\n",
    "    stock_data = stock_data['Close']\n",
    "    returns = stock_data.pct_change()\n",
    "    return returns"
   ]
  },
  {
   "cell_type": "code",
   "execution_count": 10,
   "id": "b28e9759",
   "metadata": {},
   "outputs": [],
   "source": [
    "# Time horizon\n",
    "start = '2021-01-01'\n",
    "end = '2023-03-31'\n",
    "\n",
    "# Portfolio 1: asset returns\n",
    "stock_returns = get_portfolio_data(stocks, start, end)"
   ]
  },
  {
   "cell_type": "code",
   "execution_count": 39,
   "id": "ec7041c0",
   "metadata": {},
   "outputs": [
    {
     "data": {
      "text/html": [
       "<div>\n",
       "<style scoped>\n",
       "    .dataframe tbody tr th:only-of-type {\n",
       "        vertical-align: middle;\n",
       "    }\n",
       "\n",
       "    .dataframe tbody tr th {\n",
       "        vertical-align: top;\n",
       "    }\n",
       "\n",
       "    .dataframe thead th {\n",
       "        text-align: right;\n",
       "    }\n",
       "</style>\n",
       "<table border=\"1\" class=\"dataframe\">\n",
       "  <thead>\n",
       "    <tr style=\"text-align: right;\">\n",
       "      <th></th>\n",
       "      <th>AAPL</th>\n",
       "      <th>BABA</th>\n",
       "      <th>GOOGL</th>\n",
       "      <th>MSFT</th>\n",
       "      <th>QYLD</th>\n",
       "      <th>SHEL</th>\n",
       "      <th>TSLA</th>\n",
       "    </tr>\n",
       "    <tr>\n",
       "      <th>Date</th>\n",
       "      <th></th>\n",
       "      <th></th>\n",
       "      <th></th>\n",
       "      <th></th>\n",
       "      <th></th>\n",
       "      <th></th>\n",
       "      <th></th>\n",
       "    </tr>\n",
       "  </thead>\n",
       "  <tbody>\n",
       "    <tr>\n",
       "      <th>2021-01-05</th>\n",
       "      <td>0.012364</td>\n",
       "      <td>0.055080</td>\n",
       "      <td>0.008064</td>\n",
       "      <td>0.000965</td>\n",
       "      <td>0.004848</td>\n",
       "      <td>0.068832</td>\n",
       "      <td>0.007317</td>\n",
       "    </tr>\n",
       "    <tr>\n",
       "      <th>2021-01-06</th>\n",
       "      <td>-0.033662</td>\n",
       "      <td>-0.053203</td>\n",
       "      <td>-0.009868</td>\n",
       "      <td>-0.025929</td>\n",
       "      <td>-0.005263</td>\n",
       "      <td>0.046222</td>\n",
       "      <td>0.028390</td>\n",
       "    </tr>\n",
       "    <tr>\n",
       "      <th>2021-01-07</th>\n",
       "      <td>0.034123</td>\n",
       "      <td>-0.003119</td>\n",
       "      <td>0.029869</td>\n",
       "      <td>0.028457</td>\n",
       "      <td>0.013668</td>\n",
       "      <td>0.001241</td>\n",
       "      <td>0.079447</td>\n",
       "    </tr>\n",
       "    <tr>\n",
       "      <th>2021-01-08</th>\n",
       "      <td>0.008631</td>\n",
       "      <td>0.040943</td>\n",
       "      <td>0.013239</td>\n",
       "      <td>0.006093</td>\n",
       "      <td>0.002610</td>\n",
       "      <td>-0.002479</td>\n",
       "      <td>0.078403</td>\n",
       "    </tr>\n",
       "    <tr>\n",
       "      <th>2021-01-11</th>\n",
       "      <td>-0.023249</td>\n",
       "      <td>-0.037343</td>\n",
       "      <td>-0.023106</td>\n",
       "      <td>-0.009699</td>\n",
       "      <td>-0.002169</td>\n",
       "      <td>0.000497</td>\n",
       "      <td>-0.078214</td>\n",
       "    </tr>\n",
       "    <tr>\n",
       "      <th>...</th>\n",
       "      <td>...</td>\n",
       "      <td>...</td>\n",
       "      <td>...</td>\n",
       "      <td>...</td>\n",
       "      <td>...</td>\n",
       "      <td>...</td>\n",
       "      <td>...</td>\n",
       "    </tr>\n",
       "    <tr>\n",
       "      <th>2023-03-24</th>\n",
       "      <td>0.008306</td>\n",
       "      <td>0.004392</td>\n",
       "      <td>-0.001515</td>\n",
       "      <td>0.010480</td>\n",
       "      <td>0.000591</td>\n",
       "      <td>-0.025013</td>\n",
       "      <td>-0.009416</td>\n",
       "    </tr>\n",
       "    <tr>\n",
       "      <th>2023-03-27</th>\n",
       "      <td>-0.012293</td>\n",
       "      <td>-0.008976</td>\n",
       "      <td>-0.028263</td>\n",
       "      <td>-0.014934</td>\n",
       "      <td>0.000591</td>\n",
       "      <td>0.023273</td>\n",
       "      <td>0.007353</td>\n",
       "    </tr>\n",
       "    <tr>\n",
       "      <th>2023-03-28</th>\n",
       "      <td>-0.003980</td>\n",
       "      <td>0.142592</td>\n",
       "      <td>-0.013957</td>\n",
       "      <td>-0.004161</td>\n",
       "      <td>-0.001181</td>\n",
       "      <td>0.005910</td>\n",
       "      <td>-0.013659</td>\n",
       "    </tr>\n",
       "    <tr>\n",
       "      <th>2023-03-29</th>\n",
       "      <td>0.019791</td>\n",
       "      <td>0.015447</td>\n",
       "      <td>0.003563</td>\n",
       "      <td>0.019184</td>\n",
       "      <td>0.007096</td>\n",
       "      <td>0.016913</td>\n",
       "      <td>0.024790</td>\n",
       "    </tr>\n",
       "    <tr>\n",
       "      <th>2023-03-30</th>\n",
       "      <td>0.009890</td>\n",
       "      <td>0.034628</td>\n",
       "      <td>-0.004931</td>\n",
       "      <td>0.012620</td>\n",
       "      <td>0.002936</td>\n",
       "      <td>0.014356</td>\n",
       "      <td>0.007221</td>\n",
       "    </tr>\n",
       "  </tbody>\n",
       "</table>\n",
       "<p>563 rows × 7 columns</p>\n",
       "</div>"
      ],
      "text/plain": [
       "                AAPL      BABA     GOOGL      MSFT      QYLD      SHEL  \\\n",
       "Date                                                                     \n",
       "2021-01-05  0.012364  0.055080  0.008064  0.000965  0.004848  0.068832   \n",
       "2021-01-06 -0.033662 -0.053203 -0.009868 -0.025929 -0.005263  0.046222   \n",
       "2021-01-07  0.034123 -0.003119  0.029869  0.028457  0.013668  0.001241   \n",
       "2021-01-08  0.008631  0.040943  0.013239  0.006093  0.002610 -0.002479   \n",
       "2021-01-11 -0.023249 -0.037343 -0.023106 -0.009699 -0.002169  0.000497   \n",
       "...              ...       ...       ...       ...       ...       ...   \n",
       "2023-03-24  0.008306  0.004392 -0.001515  0.010480  0.000591 -0.025013   \n",
       "2023-03-27 -0.012293 -0.008976 -0.028263 -0.014934  0.000591  0.023273   \n",
       "2023-03-28 -0.003980  0.142592 -0.013957 -0.004161 -0.001181  0.005910   \n",
       "2023-03-29  0.019791  0.015447  0.003563  0.019184  0.007096  0.016913   \n",
       "2023-03-30  0.009890  0.034628 -0.004931  0.012620  0.002936  0.014356   \n",
       "\n",
       "                TSLA  \n",
       "Date                  \n",
       "2021-01-05  0.007317  \n",
       "2021-01-06  0.028390  \n",
       "2021-01-07  0.079447  \n",
       "2021-01-08  0.078403  \n",
       "2021-01-11 -0.078214  \n",
       "...              ...  \n",
       "2023-03-24 -0.009416  \n",
       "2023-03-27  0.007353  \n",
       "2023-03-28 -0.013659  \n",
       "2023-03-29  0.024790  \n",
       "2023-03-30  0.007221  \n",
       "\n",
       "[563 rows x 7 columns]"
      ]
     },
     "execution_count": 39,
     "metadata": {},
     "output_type": "execute_result"
    }
   ],
   "source": [
    "stocks_returns = stock_returns.dropna()\n",
    "stocks_returns"
   ]
  },
  {
   "cell_type": "markdown",
   "id": "ca94247b",
   "metadata": {},
   "source": [
    "## Value at Risk\n",
    "There are two main methods to compute VAR -\n",
    "\n",
    "Parametric\n",
    "Historical\n",
    "\n",
    "### Parametric VAR \n",
    "\n",
    "Very often, the parametric VAR is based on a normal distribution. Plotting a normal distribution and the VAR on a chart will give us a good overview of how this works."
   ]
  },
  {
   "cell_type": "code",
   "execution_count": 48,
   "id": "b4bd7ddb",
   "metadata": {},
   "outputs": [
    {
     "data": {
      "image/png": "[encoded data removed]",
      "text/plain": [
       "<Figure size 1080x1080 with 7 Axes>"
      ]
     },
     "metadata": {
      "needs_background": "light"
     },
     "output_type": "display_data"
    }
   ],
   "source": [
    "# Histogram of returns (overview of return distribution)\n",
    "plt.figure(figsize=(15,15))\n",
    "\n",
    "for i, ticker in enumerate(stocks):\n",
    "  # New subplot for each stock\n",
    "  plt.subplot(4, 3, i + 1)\n",
    "  plt.title(f\"Daily returns for {ticker}\")\n",
    "\n",
    "  # Histogram of returns\n",
    "  plt.hist(stock_returns[ticker], bins=40, density=True, histtype='stepfilled', alpha=0.5)\n",
    "\n",
    "  # Standard normal for stock returns\n",
    "  mean = stock_returns[ticker].mean()\n",
    "  std_dev = stock_returns[ticker].std()\n",
    "  x = np.linspace(mean - 3*std_dev, mean + 3*std_dev, 100)\n",
    "  plt.plot(x, scipy.stats.norm.pdf(x, mean, std_dev),\"r\")"
   ]
  },
  {
   "cell_type": "code",
   "execution_count": 95,
   "id": "65d195da",
   "metadata": {},
   "outputs": [
    {
     "data": {
      "text/plain": [
       "Date\n",
       "2021-01-05    0.037700\n",
       "2021-01-06   -0.002536\n",
       "2021-01-07    0.058547\n",
       "2021-01-08    0.037960\n",
       "2021-01-11   -0.044128\n",
       "                ...   \n",
       "2023-03-24   -0.005879\n",
       "2023-03-27   -0.005631\n",
       "2023-03-28    0.006196\n",
       "2023-03-29    0.029804\n",
       "2023-03-30    0.016258\n",
       "Length: 563, dtype: float64"
      ]
     },
     "execution_count": 95,
     "metadata": {},
     "output_type": "execute_result"
    }
   ],
   "source": [
    "##Calculating overall portfolio returns, mean and standard deviation\n",
    "portfolio_rtn = stocks_returns*weights\n",
    "portfolio_rtn = portfolio_rtn.sum(axis=1)\n",
    "portfolio_rtn"
   ]
  },
  {
   "cell_type": "code",
   "execution_count": 59,
   "id": "7e951bae",
   "metadata": {},
   "outputs": [
    {
     "data": {
      "image/png": "[encoded data removed]",
      "text/plain": [
       "<Figure size 432x288 with 1 Axes>"
      ]
     },
     "metadata": {
      "needs_background": "light"
     },
     "output_type": "display_data"
    }
   ],
   "source": [
    "##Plotting histogram of portfolio returns\n",
    "plt.hist(portfolio_rtn, bins=40, density=True, histtype='stepfilled', alpha=0.5)\n",
    "plt.title(\"Daily returns of portfolio\")\n",
    "x = np.linspace(mean - 3*std_dev, mean + 3*std_dev, 100)\n",
    "plt.plot(x, scipy.stats.norm.pdf(x, mean, std_dev),\"r\")\n",
    "plt.show()"
   ]
  },
  {
   "cell_type": "code",
   "execution_count": 70,
   "id": "25e93d40",
   "metadata": {},
   "outputs": [
    {
     "data": {
      "text/plain": [
       "array([0.17, 0.11, 0.3 , 0.26, 0.8 , 0.3 , 0.32])"
      ]
     },
     "execution_count": 70,
     "metadata": {},
     "output_type": "execute_result"
    }
   ],
   "source": [
    "##Calculating in dollar amount\n",
    "initial_investment = 5000\n",
    "weights = np.array([0.17,0.11,0.3,0.26,0.8,0.3,0.32])\n",
    "weights"
   ]
  },
  {
   "cell_type": "code",
   "execution_count": 73,
   "id": "9626a247",
   "metadata": {},
   "outputs": [
    {
     "data": {
      "text/html": [
       "<div>\n",
       "<style scoped>\n",
       "    .dataframe tbody tr th:only-of-type {\n",
       "        vertical-align: middle;\n",
       "    }\n",
       "\n",
       "    .dataframe tbody tr th {\n",
       "        vertical-align: top;\n",
       "    }\n",
       "\n",
       "    .dataframe thead th {\n",
       "        text-align: right;\n",
       "    }\n",
       "</style>\n",
       "<table border=\"1\" class=\"dataframe\">\n",
       "  <thead>\n",
       "    <tr style=\"text-align: right;\">\n",
       "      <th></th>\n",
       "      <th>AAPL</th>\n",
       "      <th>BABA</th>\n",
       "      <th>GOOGL</th>\n",
       "      <th>MSFT</th>\n",
       "      <th>QYLD</th>\n",
       "      <th>SHEL</th>\n",
       "      <th>TSLA</th>\n",
       "    </tr>\n",
       "  </thead>\n",
       "  <tbody>\n",
       "    <tr>\n",
       "      <th>AAPL</th>\n",
       "      <td>0.000363</td>\n",
       "      <td>0.000228</td>\n",
       "      <td>0.000280</td>\n",
       "      <td>0.000267</td>\n",
       "      <td>0.000163</td>\n",
       "      <td>0.000072</td>\n",
       "      <td>0.000424</td>\n",
       "    </tr>\n",
       "    <tr>\n",
       "      <th>BABA</th>\n",
       "      <td>0.000228</td>\n",
       "      <td>0.001452</td>\n",
       "      <td>0.000235</td>\n",
       "      <td>0.000189</td>\n",
       "      <td>0.000171</td>\n",
       "      <td>0.000099</td>\n",
       "      <td>0.000502</td>\n",
       "    </tr>\n",
       "    <tr>\n",
       "      <th>GOOGL</th>\n",
       "      <td>0.000280</td>\n",
       "      <td>0.000235</td>\n",
       "      <td>0.000436</td>\n",
       "      <td>0.000308</td>\n",
       "      <td>0.000161</td>\n",
       "      <td>0.000088</td>\n",
       "      <td>0.000361</td>\n",
       "    </tr>\n",
       "    <tr>\n",
       "      <th>MSFT</th>\n",
       "      <td>0.000267</td>\n",
       "      <td>0.000189</td>\n",
       "      <td>0.000308</td>\n",
       "      <td>0.000340</td>\n",
       "      <td>0.000157</td>\n",
       "      <td>0.000059</td>\n",
       "      <td>0.000345</td>\n",
       "    </tr>\n",
       "    <tr>\n",
       "      <th>QYLD</th>\n",
       "      <td>0.000163</td>\n",
       "      <td>0.000171</td>\n",
       "      <td>0.000161</td>\n",
       "      <td>0.000157</td>\n",
       "      <td>0.000125</td>\n",
       "      <td>0.000053</td>\n",
       "      <td>0.000254</td>\n",
       "    </tr>\n",
       "    <tr>\n",
       "      <th>SHEL</th>\n",
       "      <td>0.000072</td>\n",
       "      <td>0.000099</td>\n",
       "      <td>0.000088</td>\n",
       "      <td>0.000059</td>\n",
       "      <td>0.000053</td>\n",
       "      <td>0.000402</td>\n",
       "      <td>0.000107</td>\n",
       "    </tr>\n",
       "    <tr>\n",
       "      <th>TSLA</th>\n",
       "      <td>0.000424</td>\n",
       "      <td>0.000502</td>\n",
       "      <td>0.000361</td>\n",
       "      <td>0.000345</td>\n",
       "      <td>0.000254</td>\n",
       "      <td>0.000107</td>\n",
       "      <td>0.001527</td>\n",
       "    </tr>\n",
       "  </tbody>\n",
       "</table>\n",
       "</div>"
      ],
      "text/plain": [
       "           AAPL      BABA     GOOGL      MSFT      QYLD      SHEL      TSLA\n",
       "AAPL   0.000363  0.000228  0.000280  0.000267  0.000163  0.000072  0.000424\n",
       "BABA   0.000228  0.001452  0.000235  0.000189  0.000171  0.000099  0.000502\n",
       "GOOGL  0.000280  0.000235  0.000436  0.000308  0.000161  0.000088  0.000361\n",
       "MSFT   0.000267  0.000189  0.000308  0.000340  0.000157  0.000059  0.000345\n",
       "QYLD   0.000163  0.000171  0.000161  0.000157  0.000125  0.000053  0.000254\n",
       "SHEL   0.000072  0.000099  0.000088  0.000059  0.000053  0.000402  0.000107\n",
       "TSLA   0.000424  0.000502  0.000361  0.000345  0.000254  0.000107  0.001527"
      ]
     },
     "execution_count": 73,
     "metadata": {},
     "output_type": "execute_result"
    }
   ],
   "source": [
    "# Generate Var-Cov matrix\n",
    "cov_matrix = stock_returns.cov()\n",
    "cov_matrix"
   ]
  },
  {
   "cell_type": "code",
   "execution_count": 74,
   "id": "4c9c10a2",
   "metadata": {},
   "outputs": [],
   "source": [
    "# Calculate mean returns for each stock\n",
    "avg_rets = stock_returns.mean()\n",
    "\n",
    "# Calculate mean returns for portfolio overall, \n",
    "# using dot product to \n",
    "# normalize individual means against investment weights\n",
    "port_mean = avg_rets.dot(weights)\n",
    "\n",
    "# Calculate portfolio standard deviation\n",
    "port_stdev = np.sqrt(weights.T.dot(cov_matrix).dot(weights))\n",
    "\n",
    "# Calculate mean of investment\n",
    "mean_investment = (1+port_mean) * initial_investment\n",
    "\n",
    "# Calculate standard deviation of investmnet\n",
    "stdev_investment = initial_investment * port_stdev"
   ]
  },
  {
   "cell_type": "code",
   "execution_count": 87,
   "id": "2497becc",
   "metadata": {},
   "outputs": [],
   "source": [
    "#Select our confidence interval (I'll choose 95% here)\n",
    "conf_level1 = 0.05\n",
    "\n",
    "# Using SciPy ppf method to generate values for the\n",
    "# inverse cumulative distribution function to a normal distribution\n",
    "# Plugging in the mean, standard deviation of our portfolio\n",
    "from scipy.stats import norm\n",
    "cutoff1 = norm.ppf(conf_level1, mean_investment, stdev_investment)"
   ]
  },
  {
   "cell_type": "code",
   "execution_count": 88,
   "id": "e856b8b1",
   "metadata": {},
   "outputs": [
    {
     "data": {
      "text/plain": [
       "275.42255726404437"
      ]
     },
     "execution_count": 88,
     "metadata": {},
     "output_type": "execute_result"
    }
   ],
   "source": [
    "#Finally, we can calculate the VaR at our confidence interval\n",
    "var_1d1 = initial_investment - cutoff1\n",
    "var_1d1\n"
   ]
  },
  {
   "cell_type": "code",
   "execution_count": 80,
   "id": "63af34d7",
   "metadata": {},
   "outputs": [
    {
     "name": "stdout",
     "output_type": "stream",
     "text": [
      "1 day VaR @ 95% confidence: 390.4\n",
      "2 day VaR @ 95% confidence: 552.11\n",
      "3 day VaR @ 95% confidence: 676.19\n",
      "4 day VaR @ 95% confidence: 780.79\n",
      "5 day VaR @ 95% confidence: 872.96\n",
      "6 day VaR @ 95% confidence: 956.27\n",
      "7 day VaR @ 95% confidence: 1032.89\n",
      "8 day VaR @ 95% confidence: 1104.21\n",
      "9 day VaR @ 95% confidence: 1171.19\n",
      "10 day VaR @ 95% confidence: 1234.55\n",
      "11 day VaR @ 95% confidence: 1294.8\n",
      "12 day VaR @ 95% confidence: 1352.38\n",
      "13 day VaR @ 95% confidence: 1407.6\n",
      "14 day VaR @ 95% confidence: 1460.73\n",
      "15 day VaR @ 95% confidence: 1512.0\n"
     ]
    },
    {
     "data": {
      "text/plain": [
       "[<matplotlib.lines.Line2D at 0x13aaa3b3460>]"
      ]
     },
     "execution_count": 80,
     "metadata": {},
     "output_type": "execute_result"
    },
    {
     "data": {
      "image/png": "[encoded data removed]",
      "text/plain": [
       "<Figure size 432x288 with 1 Axes>"
      ]
     },
     "metadata": {
      "needs_background": "light"
     },
     "output_type": "display_data"
    }
   ],
   "source": [
    "# Calculate n Day VaR\n",
    "var_array = []\n",
    "num_days = int(15)\n",
    "for x in range(1, num_days+1):    \n",
    "    var_array.append(np.round(var_1d1 * np.sqrt(x),2))\n",
    "    print(str(x) + \" day VaR @ 95% confidence: \" + str(np.round(var_1d1 * np.sqrt(x),2)))\n",
    "\n",
    "# Build plot\n",
    "plt.xlabel(\"Day #\")\n",
    "plt.ylabel(\"Max portfolio loss (USD)\")\n",
    "plt.title(\"Max portfolio loss (VaR) over 15-day period\")\n",
    "plt.plot(var_array, \"r\")"
   ]
  },
  {
   "cell_type": "markdown",
   "id": "ae189114",
   "metadata": {},
   "source": [
    "### Historic VAR"
   ]
  },
  {
   "cell_type": "code",
   "execution_count": 99,
   "id": "c4a78023",
   "metadata": {},
   "outputs": [],
   "source": [
    "# Calculate the daily dollar return\n",
    "daily_dollar_return = initial_investment * portfolio_rtn\n",
    "\n",
    "# Calculate the cumulative dollar return\n",
    "cumulative_dollar_return = daily_dollar_return.cumsum()"
   ]
  },
  {
   "cell_type": "code",
   "execution_count": 100,
   "id": "401624f8",
   "metadata": {},
   "outputs": [
    {
     "data": {
      "text/plain": [
       "Date\n",
       "2021-01-05    5188.500273\n",
       "2021-01-06    5175.821652\n",
       "2021-01-07    5468.557382\n",
       "2021-01-08    5658.357137\n",
       "2021-01-11    5437.716640\n",
       "                 ...     \n",
       "2023-03-24    5938.343315\n",
       "2023-03-27    5910.186883\n",
       "2023-03-28    5941.169053\n",
       "2023-03-29    6090.190246\n",
       "2023-03-30    6171.481322\n",
       "Length: 563, dtype: float64"
      ]
     },
     "execution_count": 100,
     "metadata": {},
     "output_type": "execute_result"
    }
   ],
   "source": [
    "portfolio_value = initial_investment + cumulative_dollar_return\n",
    "portfolio_value"
   ]
  },
  {
   "cell_type": "code",
   "execution_count": 108,
   "id": "b702c0ea",
   "metadata": {},
   "outputs": [
    {
     "data": {
      "text/plain": [
       "Date\n",
       "2022-04-04    7983.991512\n",
       "2021-11-05    7930.914182\n",
       "2021-11-04    7927.061164\n",
       "2021-11-03    7880.920324\n",
       "2021-11-08    7870.519749\n",
       "                 ...     \n",
       "2023-01-04    4106.182796\n",
       "2022-12-27    4052.981674\n",
       "2023-01-03    4020.519272\n",
       "2022-12-28    3955.070174\n",
       "2023-01-05    3947.294872\n",
       "Length: 563, dtype: float64"
      ]
     },
     "execution_count": 108,
     "metadata": {},
     "output_type": "execute_result"
    }
   ],
   "source": [
    "SortedHistData = portfolio_value.sort_values(ascending = False)\n",
    "SortedHistData"
   ]
  },
  {
   "cell_type": "code",
   "execution_count": 113,
   "id": "55045f7d",
   "metadata": {},
   "outputs": [
    {
     "name": "stdout",
     "output_type": "stream",
     "text": [
      "Confidence Level      Value at Risk\n",
      "------------------  ---------------\n",
      "90%                         109.18\n",
      "95%                        -244.015\n",
      "99%                        -775.41\n"
     ]
    }
   ],
   "source": [
    "# Calculate the VaR \n",
    "VaR_90 = cumulative_dollar_return.quantile(0.1)\n",
    "VaR_95 = cumulative_dollar_return.quantile(0.05)\n",
    "VaR_99 = cumulative_dollar_return.quantile(0.01)\n",
    "\n",
    "print (tabulate([['90%', VaR_90], ['95%', VaR_95], ['99%', VaR_99]], headers = ['Confidence Level', 'Value at Risk']))"
   ]
  },
  {
   "cell_type": "markdown",
   "id": "bdda934f",
   "metadata": {},
   "source": [
    "The values above imply the confidence level of the particular “value” that is at a risk of being lost.\n",
    "\n",
    "At a 95% of confidence that the loss of value may be -0.0550845 and not more and there is 99% confidence that the loss will go to -0.0780795 and not beyond. Since all the values at risk are in negative, the probability is higher that the portfolio will return more than invested amount."
   ]
  }
 ],
 "metadata": {
  "kernelspec": {
   "display_name": "Python 3 (ipykernel)",
   "language": "python",
   "name": "python3"
  },
  "language_info": {
   "codemirror_mode": {
    "name": "ipython",
    "version": 3
   },
   "file_extension": ".py",
   "mimetype": "text/x-python",
   "name": "python",
   "nbconvert_exporter": "python",
   "pygments_lexer": "ipython3",
   "version": "3.9.12"
  }
 },
 "nbformat": 4,
 "nbformat_minor": 5
}
